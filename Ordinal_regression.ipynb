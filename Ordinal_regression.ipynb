{
 "cells": [
  {
   "cell_type": "markdown",
   "id": "6ec7af79",
   "metadata": {},
   "source": [
    "# Ordinal Logistic Regression"
   ]
  },
  {
   "cell_type": "markdown",
   "id": "25687e51",
   "metadata": {},
   "source": [
    "P[Y=j]....funcion de densidad\n",
    "\n",
    "P[Y<=j]....función de distribución"
   ]
  },
  {
   "cell_type": "markdown",
   "id": "18bc8400",
   "metadata": {},
   "source": [
    "**Ejercicio:** Investigar los factores que influyen en el nivel que una persona elige ir a un posgrado.\n",
    "\n",
    "**Tarea:** Investigar qué es la escala Likert."
   ]
  },
  {
   "cell_type": "code",
   "execution_count": 1,
   "id": "1ebcb63f",
   "metadata": {},
   "outputs": [
    {
     "name": "stderr",
     "output_type": "stream",
     "text": [
      "Warning message:\n",
      "\"package 'dplyr' was built under R version 4.0.5\"\n",
      "\n",
      "Attaching package: 'dplyr'\n",
      "\n",
      "\n",
      "The following object is masked from 'package:MASS':\n",
      "\n",
      "    select\n",
      "\n",
      "\n",
      "The following objects are masked from 'package:stats':\n",
      "\n",
      "    filter, lag\n",
      "\n",
      "\n",
      "The following objects are masked from 'package:base':\n",
      "\n",
      "    intersect, setdiff, setequal, union\n",
      "\n",
      "\n"
     ]
    }
   ],
   "source": [
    "#install.packages('MASS')\n",
    "library(foreign)\n",
    "library(MASS)\n",
    "library(dplyr)"
   ]
  },
  {
   "cell_type": "code",
   "execution_count": 2,
   "id": "8a48ea34",
   "metadata": {},
   "outputs": [
    {
     "data": {
      "text/html": [
       "<table class=\"dataframe\">\n",
       "<caption>A data.frame: 10 × 4</caption>\n",
       "<thead>\n",
       "\t<tr><th></th><th scope=col>apply</th><th scope=col>pared</th><th scope=col>public</th><th scope=col>gpa</th></tr>\n",
       "\t<tr><th></th><th scope=col>&lt;fct&gt;</th><th scope=col>&lt;int&gt;</th><th scope=col>&lt;int&gt;</th><th scope=col>&lt;dbl&gt;</th></tr>\n",
       "</thead>\n",
       "<tbody>\n",
       "\t<tr><th scope=row>1</th><td>very likely    </td><td>0</td><td>0</td><td>3.26</td></tr>\n",
       "\t<tr><th scope=row>2</th><td>somewhat likely</td><td>1</td><td>0</td><td>3.21</td></tr>\n",
       "\t<tr><th scope=row>3</th><td>unlikely       </td><td>1</td><td>1</td><td>3.94</td></tr>\n",
       "\t<tr><th scope=row>4</th><td>somewhat likely</td><td>0</td><td>0</td><td>2.81</td></tr>\n",
       "\t<tr><th scope=row>5</th><td>somewhat likely</td><td>0</td><td>0</td><td>2.53</td></tr>\n",
       "\t<tr><th scope=row>6</th><td>unlikely       </td><td>0</td><td>1</td><td>2.59</td></tr>\n",
       "\t<tr><th scope=row>7</th><td>somewhat likely</td><td>0</td><td>0</td><td>2.56</td></tr>\n",
       "\t<tr><th scope=row>8</th><td>somewhat likely</td><td>0</td><td>0</td><td>2.73</td></tr>\n",
       "\t<tr><th scope=row>9</th><td>unlikely       </td><td>0</td><td>0</td><td>3.00</td></tr>\n",
       "\t<tr><th scope=row>10</th><td>somewhat likely</td><td>1</td><td>0</td><td>3.50</td></tr>\n",
       "</tbody>\n",
       "</table>\n"
      ],
      "text/latex": [
       "A data.frame: 10 × 4\n",
       "\\begin{tabular}{r|llll}\n",
       "  & apply & pared & public & gpa\\\\\n",
       "  & <fct> & <int> & <int> & <dbl>\\\\\n",
       "\\hline\n",
       "\t1 & very likely     & 0 & 0 & 3.26\\\\\n",
       "\t2 & somewhat likely & 1 & 0 & 3.21\\\\\n",
       "\t3 & unlikely        & 1 & 1 & 3.94\\\\\n",
       "\t4 & somewhat likely & 0 & 0 & 2.81\\\\\n",
       "\t5 & somewhat likely & 0 & 0 & 2.53\\\\\n",
       "\t6 & unlikely        & 0 & 1 & 2.59\\\\\n",
       "\t7 & somewhat likely & 0 & 0 & 2.56\\\\\n",
       "\t8 & somewhat likely & 0 & 0 & 2.73\\\\\n",
       "\t9 & unlikely        & 0 & 0 & 3.00\\\\\n",
       "\t10 & somewhat likely & 1 & 0 & 3.50\\\\\n",
       "\\end{tabular}\n"
      ],
      "text/markdown": [
       "\n",
       "A data.frame: 10 × 4\n",
       "\n",
       "| <!--/--> | apply &lt;fct&gt; | pared &lt;int&gt; | public &lt;int&gt; | gpa &lt;dbl&gt; |\n",
       "|---|---|---|---|---|\n",
       "| 1 | very likely     | 0 | 0 | 3.26 |\n",
       "| 2 | somewhat likely | 1 | 0 | 3.21 |\n",
       "| 3 | unlikely        | 1 | 1 | 3.94 |\n",
       "| 4 | somewhat likely | 0 | 0 | 2.81 |\n",
       "| 5 | somewhat likely | 0 | 0 | 2.53 |\n",
       "| 6 | unlikely        | 0 | 1 | 2.59 |\n",
       "| 7 | somewhat likely | 0 | 0 | 2.56 |\n",
       "| 8 | somewhat likely | 0 | 0 | 2.73 |\n",
       "| 9 | unlikely        | 0 | 0 | 3.00 |\n",
       "| 10 | somewhat likely | 1 | 0 | 3.50 |\n",
       "\n"
      ],
      "text/plain": [
       "   apply           pared public gpa \n",
       "1  very likely     0     0      3.26\n",
       "2  somewhat likely 1     0      3.21\n",
       "3  unlikely        1     1      3.94\n",
       "4  somewhat likely 0     0      2.81\n",
       "5  somewhat likely 0     0      2.53\n",
       "6  unlikely        0     1      2.59\n",
       "7  somewhat likely 0     0      2.56\n",
       "8  somewhat likely 0     0      2.73\n",
       "9  unlikely        0     0      3.00\n",
       "10 somewhat likely 1     0      3.50"
      ]
     },
     "metadata": {},
     "output_type": "display_data"
    }
   ],
   "source": [
    "df=read.dta(\"https://stats.idre.ucla.edu/stat/data/ologit.dta\")\n",
    "head(df,10)"
   ]
  },
  {
   "cell_type": "code",
   "execution_count": 3,
   "id": "5f0def9c",
   "metadata": {},
   "outputs": [
    {
     "name": "stdout",
     "output_type": "stream",
     "text": [
      "'data.frame':\t400 obs. of  4 variables:\n",
      " $ apply : Factor w/ 3 levels \"unlikely\",\"somewhat likely\",..: 3 2 1 2 2 1 2 2 1 2 ...\n",
      " $ pared : int  0 1 1 0 0 0 0 0 0 1 ...\n",
      " $ public: int  0 0 1 0 0 1 0 0 0 0 ...\n",
      " $ gpa   : num  3.26 3.21 3.94 2.81 2.53 ...\n",
      " - attr(*, \"datalabel\")= chr \"\"\n",
      " - attr(*, \"time.stamp\")= chr \" 3 Aug 2010 10:45\"\n",
      " - attr(*, \"formats\")= chr [1:4] \"%15.0g\" \"%9.0g\" \"%9.0g\" \"%9.0g\"\n",
      " - attr(*, \"types\")= int [1:4] 251 251 251 254\n",
      " - attr(*, \"val.labels\")= chr [1:4] \"apply\" \"\" \"\" \"\"\n",
      " - attr(*, \"var.labels\")= chr [1:4] \"\" \"\" \"\" \"\"\n",
      " - attr(*, \"version\")= int 12\n",
      " - attr(*, \"label.table\")=List of 1\n",
      "  ..$ apply: Named int [1:3] 0 1 2\n",
      "  .. ..- attr(*, \"names\")= chr [1:3] \"unlikely\" \"somewhat likely\" \"very likely\"\n"
     ]
    }
   ],
   "source": [
    "str(df)"
   ]
  },
  {
   "cell_type": "code",
   "execution_count": 4,
   "id": "67eaa69d",
   "metadata": {},
   "outputs": [
    {
     "data": {
      "text/plain": [
       "\n",
       "       unlikely somewhat likely     very likely \n",
       "            220             140              40 "
      ]
     },
     "metadata": {},
     "output_type": "display_data"
    }
   ],
   "source": [
    "table(df$apply)"
   ]
  },
  {
   "cell_type": "code",
   "execution_count": 5,
   "id": "307d6714",
   "metadata": {},
   "outputs": [
    {
     "data": {
      "text/plain": [
       "                 \n",
       "                    0   1\n",
       "  unlikely        200  20\n",
       "  somewhat likely 110  30\n",
       "  very likely      27  13"
      ]
     },
     "metadata": {},
     "output_type": "display_data"
    }
   ],
   "source": [
    "table(df$apply,df$pared)"
   ]
  },
  {
   "cell_type": "markdown",
   "id": "aa6d0e2f",
   "metadata": {},
   "source": [
    "**Otra tarea:** Hacer las gráficas que consideren necesarias para explorar los datos."
   ]
  },
  {
   "cell_type": "markdown",
   "id": "585ec531",
   "metadata": {},
   "source": [
    "Hacemos nuestro primer modelo ordinal... ;) crecen tan rápido"
   ]
  },
  {
   "cell_type": "code",
   "execution_count": 6,
   "id": "4807f4f6",
   "metadata": {},
   "outputs": [
    {
     "data": {
      "text/plain": [
       "Call:\n",
       "polr(formula = apply ~ pared, data = df, Hess = TRUE)\n",
       "\n",
       "Coefficients:\n",
       "      Value Std. Error t value\n",
       "pared 1.127     0.2634    4.28\n",
       "\n",
       "Intercepts:\n",
       "                            Value   Std. Error t value\n",
       "unlikely|somewhat likely     0.3768  0.1103     3.4152\n",
       "somewhat likely|very likely  2.4519  0.1826    13.4302\n",
       "\n",
       "Residual Deviance: 722.7903 \n",
       "AIC: 728.7903 "
      ]
     },
     "metadata": {},
     "output_type": "display_data"
    }
   ],
   "source": [
    "ord1<-polr(apply~pared, data=df,Hess=TRUE) #Tenemos que poner Hess para que no marque error\n",
    "summary(ord1)"
   ]
  },
  {
   "cell_type": "markdown",
   "id": "dac027fb",
   "metadata": {},
   "source": [
    "Y aquí viene lo bueno...explicar los Interceptos"
   ]
  },
  {
   "cell_type": "code",
   "execution_count": 8,
   "id": "6366d336",
   "metadata": {},
   "outputs": [
    {
     "data": {
      "text/html": [
       "<table class=\"dataframe\">\n",
       "<caption>A matrix: 3 × 3 of type dbl</caption>\n",
       "<thead>\n",
       "\t<tr><th></th><th scope=col>Value</th><th scope=col>Std. Error</th><th scope=col>t value</th></tr>\n",
       "</thead>\n",
       "<tbody>\n",
       "\t<tr><th scope=row>pared</th><td> 3.087899</td><td>1.301389</td><td>    72.24049</td></tr>\n",
       "\t<tr><th scope=row>unlikely|somewhat likely</th><td> 1.457675</td><td>1.116660</td><td>    30.42371</td></tr>\n",
       "\t<tr><th scope=row>somewhat likely|very likely</th><td>11.609872</td><td>1.200290</td><td>680240.30798</td></tr>\n",
       "</tbody>\n",
       "</table>\n"
      ],
      "text/latex": [
       "A matrix: 3 × 3 of type dbl\n",
       "\\begin{tabular}{r|lll}\n",
       "  & Value & Std. Error & t value\\\\\n",
       "\\hline\n",
       "\tpared &  3.087899 & 1.301389 &     72.24049\\\\\n",
       "\tunlikely\\textbar{}somewhat likely &  1.457675 & 1.116660 &     30.42371\\\\\n",
       "\tsomewhat likely\\textbar{}very likely & 11.609872 & 1.200290 & 680240.30798\\\\\n",
       "\\end{tabular}\n"
      ],
      "text/markdown": [
       "\n",
       "A matrix: 3 × 3 of type dbl\n",
       "\n",
       "| <!--/--> | Value | Std. Error | t value |\n",
       "|---|---|---|---|\n",
       "| pared |  3.087899 | 1.301389 |     72.24049 |\n",
       "| unlikely|somewhat likely |  1.457675 | 1.116660 |     30.42371 |\n",
       "| somewhat likely|very likely | 11.609872 | 1.200290 | 680240.30798 |\n",
       "\n"
      ],
      "text/plain": [
       "                            Value     Std. Error t value     \n",
       "pared                        3.087899 1.301389       72.24049\n",
       "unlikely|somewhat likely     1.457675 1.116660       30.42371\n",
       "somewhat likely|very likely 11.609872 1.200290   680240.30798"
      ]
     },
     "metadata": {},
     "output_type": "display_data"
    }
   ],
   "source": [
    "exp(summary(ord1)$coefficients)"
   ]
  },
  {
   "cell_type": "markdown",
   "id": "30a6c112",
   "metadata": {},
   "source": [
    "**Interpretación de los momios**\n",
    "\n",
    "1. De las personas con padres que sí fueron a la Universidad, su probabilidad de elegir un posgrado es ***3.08 veces mayor*** [somewhat likely o likely vs unlikely]  de quienes sus padres no fueron a la Universidad.\n",
    "\n",
    "2. De las personas con padres que no fueron a la Universidad, su probabilidad de elegir un posgrado es ***3.08 veces menor*** [unlikely vs somewhat likely o vs very likely] de aquellos con padres que sí fueron a la Universidad.\n",
    "\n",
    "\n",
    "\n"
   ]
  },
  {
   "cell_type": "code",
   "execution_count": 16,
   "id": "35e5ec4a",
   "metadata": {},
   "outputs": [
    {
     "data": {
      "text/html": [
       "<style>\n",
       ".list-inline {list-style: none; margin:0; padding: 0}\n",
       ".list-inline>li {display: inline-block}\n",
       ".list-inline>li:not(:last-child)::after {content: \"\\00b7\"; padding: 0 .5ex}\n",
       "</style>\n",
       "<ol class=list-inline><li>'call'</li><li>'coefficients'</li><li>'convergence'</li><li>'deviance'</li><li>'df.residual'</li><li>'digits'</li><li>'edf'</li><li>'fitted.values'</li><li>'Hessian'</li><li>'lev'</li><li>'lp'</li><li>'method'</li><li>'model'</li><li>'n'</li><li>'niter'</li><li>'nobs'</li><li>'pc'</li><li>'terms'</li><li>'xlevels'</li><li>'zeta'</li></ol>\n"
      ],
      "text/latex": [
       "\\begin{enumerate*}\n",
       "\\item 'call'\n",
       "\\item 'coefficients'\n",
       "\\item 'convergence'\n",
       "\\item 'deviance'\n",
       "\\item 'df.residual'\n",
       "\\item 'digits'\n",
       "\\item 'edf'\n",
       "\\item 'fitted.values'\n",
       "\\item 'Hessian'\n",
       "\\item 'lev'\n",
       "\\item 'lp'\n",
       "\\item 'method'\n",
       "\\item 'model'\n",
       "\\item 'n'\n",
       "\\item 'niter'\n",
       "\\item 'nobs'\n",
       "\\item 'pc'\n",
       "\\item 'terms'\n",
       "\\item 'xlevels'\n",
       "\\item 'zeta'\n",
       "\\end{enumerate*}\n"
      ],
      "text/markdown": [
       "1. 'call'\n",
       "2. 'coefficients'\n",
       "3. 'convergence'\n",
       "4. 'deviance'\n",
       "5. 'df.residual'\n",
       "6. 'digits'\n",
       "7. 'edf'\n",
       "8. 'fitted.values'\n",
       "9. 'Hessian'\n",
       "10. 'lev'\n",
       "11. 'lp'\n",
       "12. 'method'\n",
       "13. 'model'\n",
       "14. 'n'\n",
       "15. 'niter'\n",
       "16. 'nobs'\n",
       "17. 'pc'\n",
       "18. 'terms'\n",
       "19. 'xlevels'\n",
       "20. 'zeta'\n",
       "\n",
       "\n"
      ],
      "text/plain": [
       " [1] \"call\"          \"coefficients\"  \"convergence\"   \"deviance\"     \n",
       " [5] \"df.residual\"   \"digits\"        \"edf\"           \"fitted.values\"\n",
       " [9] \"Hessian\"       \"lev\"           \"lp\"            \"method\"       \n",
       "[13] \"model\"         \"n\"             \"niter\"         \"nobs\"         \n",
       "[17] \"pc\"            \"terms\"         \"xlevels\"       \"zeta\"         "
      ]
     },
     "metadata": {},
     "output_type": "display_data"
    }
   ],
   "source": [
    "ls(summary(ord1))"
   ]
  },
  {
   "cell_type": "code",
   "execution_count": 19,
   "id": "f725ca1a",
   "metadata": {},
   "outputs": [
    {
     "data": {
      "text/html": [
       "<table class=\"dataframe\">\n",
       "<caption>A matrix: 400 × 3 of type dbl</caption>\n",
       "<thead>\n",
       "\t<tr><th></th><th scope=col>unlikely</th><th scope=col>somewhat likely</th><th scope=col>very likely</th></tr>\n",
       "</thead>\n",
       "<tbody>\n",
       "\t<tr><th scope=row>1</th><td>0.5931114</td><td>0.3275856</td><td>0.07930294</td></tr>\n",
       "\t<tr><th scope=row>2</th><td>0.3206801</td><td>0.4692269</td><td>0.21009300</td></tr>\n",
       "\t<tr><th scope=row>3</th><td>0.3206801</td><td>0.4692269</td><td>0.21009300</td></tr>\n",
       "\t<tr><th scope=row>4</th><td>0.5931114</td><td>0.3275856</td><td>0.07930294</td></tr>\n",
       "\t<tr><th scope=row>5</th><td>0.5931114</td><td>0.3275856</td><td>0.07930294</td></tr>\n",
       "\t<tr><th scope=row>6</th><td>0.5931114</td><td>0.3275856</td><td>0.07930294</td></tr>\n",
       "\t<tr><th scope=row>7</th><td>0.5931114</td><td>0.3275856</td><td>0.07930294</td></tr>\n",
       "\t<tr><th scope=row>8</th><td>0.5931114</td><td>0.3275856</td><td>0.07930294</td></tr>\n",
       "\t<tr><th scope=row>9</th><td>0.5931114</td><td>0.3275856</td><td>0.07930294</td></tr>\n",
       "\t<tr><th scope=row>10</th><td>0.3206801</td><td>0.4692269</td><td>0.21009300</td></tr>\n",
       "\t<tr><th scope=row>11</th><td>0.3206801</td><td>0.4692269</td><td>0.21009300</td></tr>\n",
       "\t<tr><th scope=row>12</th><td>0.5931114</td><td>0.3275856</td><td>0.07930294</td></tr>\n",
       "\t<tr><th scope=row>13</th><td>0.5931114</td><td>0.3275856</td><td>0.07930294</td></tr>\n",
       "\t<tr><th scope=row>14</th><td>0.5931114</td><td>0.3275856</td><td>0.07930294</td></tr>\n",
       "\t<tr><th scope=row>15</th><td>0.3206801</td><td>0.4692269</td><td>0.21009300</td></tr>\n",
       "\t<tr><th scope=row>16</th><td>0.5931114</td><td>0.3275856</td><td>0.07930294</td></tr>\n",
       "\t<tr><th scope=row>17</th><td>0.5931114</td><td>0.3275856</td><td>0.07930294</td></tr>\n",
       "\t<tr><th scope=row>18</th><td>0.5931114</td><td>0.3275856</td><td>0.07930294</td></tr>\n",
       "\t<tr><th scope=row>19</th><td>0.5931114</td><td>0.3275856</td><td>0.07930294</td></tr>\n",
       "\t<tr><th scope=row>20</th><td>0.5931114</td><td>0.3275856</td><td>0.07930294</td></tr>\n",
       "\t<tr><th scope=row>21</th><td>0.5931114</td><td>0.3275856</td><td>0.07930294</td></tr>\n",
       "\t<tr><th scope=row>22</th><td>0.3206801</td><td>0.4692269</td><td>0.21009300</td></tr>\n",
       "\t<tr><th scope=row>23</th><td>0.5931114</td><td>0.3275856</td><td>0.07930294</td></tr>\n",
       "\t<tr><th scope=row>24</th><td>0.5931114</td><td>0.3275856</td><td>0.07930294</td></tr>\n",
       "\t<tr><th scope=row>25</th><td>0.5931114</td><td>0.3275856</td><td>0.07930294</td></tr>\n",
       "\t<tr><th scope=row>26</th><td>0.5931114</td><td>0.3275856</td><td>0.07930294</td></tr>\n",
       "\t<tr><th scope=row>27</th><td>0.3206801</td><td>0.4692269</td><td>0.21009300</td></tr>\n",
       "\t<tr><th scope=row>28</th><td>0.5931114</td><td>0.3275856</td><td>0.07930294</td></tr>\n",
       "\t<tr><th scope=row>29</th><td>0.5931114</td><td>0.3275856</td><td>0.07930294</td></tr>\n",
       "\t<tr><th scope=row>30</th><td>0.5931114</td><td>0.3275856</td><td>0.07930294</td></tr>\n",
       "\t<tr><th scope=row>...</th><td>...</td><td>...</td><td>...</td></tr>\n",
       "\t<tr><th scope=row>371</th><td>0.5931114</td><td>0.3275856</td><td>0.07930294</td></tr>\n",
       "\t<tr><th scope=row>372</th><td>0.5931114</td><td>0.3275856</td><td>0.07930294</td></tr>\n",
       "\t<tr><th scope=row>373</th><td>0.5931114</td><td>0.3275856</td><td>0.07930294</td></tr>\n",
       "\t<tr><th scope=row>374</th><td>0.3206801</td><td>0.4692269</td><td>0.21009300</td></tr>\n",
       "\t<tr><th scope=row>375</th><td>0.5931114</td><td>0.3275856</td><td>0.07930294</td></tr>\n",
       "\t<tr><th scope=row>376</th><td>0.5931114</td><td>0.3275856</td><td>0.07930294</td></tr>\n",
       "\t<tr><th scope=row>377</th><td>0.5931114</td><td>0.3275856</td><td>0.07930294</td></tr>\n",
       "\t<tr><th scope=row>378</th><td>0.5931114</td><td>0.3275856</td><td>0.07930294</td></tr>\n",
       "\t<tr><th scope=row>379</th><td>0.5931114</td><td>0.3275856</td><td>0.07930294</td></tr>\n",
       "\t<tr><th scope=row>380</th><td>0.5931114</td><td>0.3275856</td><td>0.07930294</td></tr>\n",
       "\t<tr><th scope=row>381</th><td>0.5931114</td><td>0.3275856</td><td>0.07930294</td></tr>\n",
       "\t<tr><th scope=row>382</th><td>0.5931114</td><td>0.3275856</td><td>0.07930294</td></tr>\n",
       "\t<tr><th scope=row>383</th><td>0.5931114</td><td>0.3275856</td><td>0.07930294</td></tr>\n",
       "\t<tr><th scope=row>384</th><td>0.3206801</td><td>0.4692269</td><td>0.21009300</td></tr>\n",
       "\t<tr><th scope=row>385</th><td>0.5931114</td><td>0.3275856</td><td>0.07930294</td></tr>\n",
       "\t<tr><th scope=row>386</th><td>0.5931114</td><td>0.3275856</td><td>0.07930294</td></tr>\n",
       "\t<tr><th scope=row>387</th><td>0.5931114</td><td>0.3275856</td><td>0.07930294</td></tr>\n",
       "\t<tr><th scope=row>388</th><td>0.5931114</td><td>0.3275856</td><td>0.07930294</td></tr>\n",
       "\t<tr><th scope=row>389</th><td>0.5931114</td><td>0.3275856</td><td>0.07930294</td></tr>\n",
       "\t<tr><th scope=row>390</th><td>0.5931114</td><td>0.3275856</td><td>0.07930294</td></tr>\n",
       "\t<tr><th scope=row>391</th><td>0.5931114</td><td>0.3275856</td><td>0.07930294</td></tr>\n",
       "\t<tr><th scope=row>392</th><td>0.5931114</td><td>0.3275856</td><td>0.07930294</td></tr>\n",
       "\t<tr><th scope=row>393</th><td>0.5931114</td><td>0.3275856</td><td>0.07930294</td></tr>\n",
       "\t<tr><th scope=row>394</th><td>0.3206801</td><td>0.4692269</td><td>0.21009300</td></tr>\n",
       "\t<tr><th scope=row>395</th><td>0.3206801</td><td>0.4692269</td><td>0.21009300</td></tr>\n",
       "\t<tr><th scope=row>396</th><td>0.5931114</td><td>0.3275856</td><td>0.07930294</td></tr>\n",
       "\t<tr><th scope=row>397</th><td>0.5931114</td><td>0.3275856</td><td>0.07930294</td></tr>\n",
       "\t<tr><th scope=row>398</th><td>0.5931114</td><td>0.3275856</td><td>0.07930294</td></tr>\n",
       "\t<tr><th scope=row>399</th><td>0.5931114</td><td>0.3275856</td><td>0.07930294</td></tr>\n",
       "\t<tr><th scope=row>400</th><td>0.5931114</td><td>0.3275856</td><td>0.07930294</td></tr>\n",
       "</tbody>\n",
       "</table>\n"
      ],
      "text/latex": [
       "A matrix: 400 × 3 of type dbl\n",
       "\\begin{tabular}{r|lll}\n",
       "  & unlikely & somewhat likely & very likely\\\\\n",
       "\\hline\n",
       "\t1 & 0.5931114 & 0.3275856 & 0.07930294\\\\\n",
       "\t2 & 0.3206801 & 0.4692269 & 0.21009300\\\\\n",
       "\t3 & 0.3206801 & 0.4692269 & 0.21009300\\\\\n",
       "\t4 & 0.5931114 & 0.3275856 & 0.07930294\\\\\n",
       "\t5 & 0.5931114 & 0.3275856 & 0.07930294\\\\\n",
       "\t6 & 0.5931114 & 0.3275856 & 0.07930294\\\\\n",
       "\t7 & 0.5931114 & 0.3275856 & 0.07930294\\\\\n",
       "\t8 & 0.5931114 & 0.3275856 & 0.07930294\\\\\n",
       "\t9 & 0.5931114 & 0.3275856 & 0.07930294\\\\\n",
       "\t10 & 0.3206801 & 0.4692269 & 0.21009300\\\\\n",
       "\t11 & 0.3206801 & 0.4692269 & 0.21009300\\\\\n",
       "\t12 & 0.5931114 & 0.3275856 & 0.07930294\\\\\n",
       "\t13 & 0.5931114 & 0.3275856 & 0.07930294\\\\\n",
       "\t14 & 0.5931114 & 0.3275856 & 0.07930294\\\\\n",
       "\t15 & 0.3206801 & 0.4692269 & 0.21009300\\\\\n",
       "\t16 & 0.5931114 & 0.3275856 & 0.07930294\\\\\n",
       "\t17 & 0.5931114 & 0.3275856 & 0.07930294\\\\\n",
       "\t18 & 0.5931114 & 0.3275856 & 0.07930294\\\\\n",
       "\t19 & 0.5931114 & 0.3275856 & 0.07930294\\\\\n",
       "\t20 & 0.5931114 & 0.3275856 & 0.07930294\\\\\n",
       "\t21 & 0.5931114 & 0.3275856 & 0.07930294\\\\\n",
       "\t22 & 0.3206801 & 0.4692269 & 0.21009300\\\\\n",
       "\t23 & 0.5931114 & 0.3275856 & 0.07930294\\\\\n",
       "\t24 & 0.5931114 & 0.3275856 & 0.07930294\\\\\n",
       "\t25 & 0.5931114 & 0.3275856 & 0.07930294\\\\\n",
       "\t26 & 0.5931114 & 0.3275856 & 0.07930294\\\\\n",
       "\t27 & 0.3206801 & 0.4692269 & 0.21009300\\\\\n",
       "\t28 & 0.5931114 & 0.3275856 & 0.07930294\\\\\n",
       "\t29 & 0.5931114 & 0.3275856 & 0.07930294\\\\\n",
       "\t30 & 0.5931114 & 0.3275856 & 0.07930294\\\\\n",
       "\t... & ... & ... & ...\\\\\n",
       "\t371 & 0.5931114 & 0.3275856 & 0.07930294\\\\\n",
       "\t372 & 0.5931114 & 0.3275856 & 0.07930294\\\\\n",
       "\t373 & 0.5931114 & 0.3275856 & 0.07930294\\\\\n",
       "\t374 & 0.3206801 & 0.4692269 & 0.21009300\\\\\n",
       "\t375 & 0.5931114 & 0.3275856 & 0.07930294\\\\\n",
       "\t376 & 0.5931114 & 0.3275856 & 0.07930294\\\\\n",
       "\t377 & 0.5931114 & 0.3275856 & 0.07930294\\\\\n",
       "\t378 & 0.5931114 & 0.3275856 & 0.07930294\\\\\n",
       "\t379 & 0.5931114 & 0.3275856 & 0.07930294\\\\\n",
       "\t380 & 0.5931114 & 0.3275856 & 0.07930294\\\\\n",
       "\t381 & 0.5931114 & 0.3275856 & 0.07930294\\\\\n",
       "\t382 & 0.5931114 & 0.3275856 & 0.07930294\\\\\n",
       "\t383 & 0.5931114 & 0.3275856 & 0.07930294\\\\\n",
       "\t384 & 0.3206801 & 0.4692269 & 0.21009300\\\\\n",
       "\t385 & 0.5931114 & 0.3275856 & 0.07930294\\\\\n",
       "\t386 & 0.5931114 & 0.3275856 & 0.07930294\\\\\n",
       "\t387 & 0.5931114 & 0.3275856 & 0.07930294\\\\\n",
       "\t388 & 0.5931114 & 0.3275856 & 0.07930294\\\\\n",
       "\t389 & 0.5931114 & 0.3275856 & 0.07930294\\\\\n",
       "\t390 & 0.5931114 & 0.3275856 & 0.07930294\\\\\n",
       "\t391 & 0.5931114 & 0.3275856 & 0.07930294\\\\\n",
       "\t392 & 0.5931114 & 0.3275856 & 0.07930294\\\\\n",
       "\t393 & 0.5931114 & 0.3275856 & 0.07930294\\\\\n",
       "\t394 & 0.3206801 & 0.4692269 & 0.21009300\\\\\n",
       "\t395 & 0.3206801 & 0.4692269 & 0.21009300\\\\\n",
       "\t396 & 0.5931114 & 0.3275856 & 0.07930294\\\\\n",
       "\t397 & 0.5931114 & 0.3275856 & 0.07930294\\\\\n",
       "\t398 & 0.5931114 & 0.3275856 & 0.07930294\\\\\n",
       "\t399 & 0.5931114 & 0.3275856 & 0.07930294\\\\\n",
       "\t400 & 0.5931114 & 0.3275856 & 0.07930294\\\\\n",
       "\\end{tabular}\n"
      ],
      "text/markdown": [
       "\n",
       "A matrix: 400 × 3 of type dbl\n",
       "\n",
       "| <!--/--> | unlikely | somewhat likely | very likely |\n",
       "|---|---|---|---|\n",
       "| 1 | 0.5931114 | 0.3275856 | 0.07930294 |\n",
       "| 2 | 0.3206801 | 0.4692269 | 0.21009300 |\n",
       "| 3 | 0.3206801 | 0.4692269 | 0.21009300 |\n",
       "| 4 | 0.5931114 | 0.3275856 | 0.07930294 |\n",
       "| 5 | 0.5931114 | 0.3275856 | 0.07930294 |\n",
       "| 6 | 0.5931114 | 0.3275856 | 0.07930294 |\n",
       "| 7 | 0.5931114 | 0.3275856 | 0.07930294 |\n",
       "| 8 | 0.5931114 | 0.3275856 | 0.07930294 |\n",
       "| 9 | 0.5931114 | 0.3275856 | 0.07930294 |\n",
       "| 10 | 0.3206801 | 0.4692269 | 0.21009300 |\n",
       "| 11 | 0.3206801 | 0.4692269 | 0.21009300 |\n",
       "| 12 | 0.5931114 | 0.3275856 | 0.07930294 |\n",
       "| 13 | 0.5931114 | 0.3275856 | 0.07930294 |\n",
       "| 14 | 0.5931114 | 0.3275856 | 0.07930294 |\n",
       "| 15 | 0.3206801 | 0.4692269 | 0.21009300 |\n",
       "| 16 | 0.5931114 | 0.3275856 | 0.07930294 |\n",
       "| 17 | 0.5931114 | 0.3275856 | 0.07930294 |\n",
       "| 18 | 0.5931114 | 0.3275856 | 0.07930294 |\n",
       "| 19 | 0.5931114 | 0.3275856 | 0.07930294 |\n",
       "| 20 | 0.5931114 | 0.3275856 | 0.07930294 |\n",
       "| 21 | 0.5931114 | 0.3275856 | 0.07930294 |\n",
       "| 22 | 0.3206801 | 0.4692269 | 0.21009300 |\n",
       "| 23 | 0.5931114 | 0.3275856 | 0.07930294 |\n",
       "| 24 | 0.5931114 | 0.3275856 | 0.07930294 |\n",
       "| 25 | 0.5931114 | 0.3275856 | 0.07930294 |\n",
       "| 26 | 0.5931114 | 0.3275856 | 0.07930294 |\n",
       "| 27 | 0.3206801 | 0.4692269 | 0.21009300 |\n",
       "| 28 | 0.5931114 | 0.3275856 | 0.07930294 |\n",
       "| 29 | 0.5931114 | 0.3275856 | 0.07930294 |\n",
       "| 30 | 0.5931114 | 0.3275856 | 0.07930294 |\n",
       "| ... | ... | ... | ... |\n",
       "| 371 | 0.5931114 | 0.3275856 | 0.07930294 |\n",
       "| 372 | 0.5931114 | 0.3275856 | 0.07930294 |\n",
       "| 373 | 0.5931114 | 0.3275856 | 0.07930294 |\n",
       "| 374 | 0.3206801 | 0.4692269 | 0.21009300 |\n",
       "| 375 | 0.5931114 | 0.3275856 | 0.07930294 |\n",
       "| 376 | 0.5931114 | 0.3275856 | 0.07930294 |\n",
       "| 377 | 0.5931114 | 0.3275856 | 0.07930294 |\n",
       "| 378 | 0.5931114 | 0.3275856 | 0.07930294 |\n",
       "| 379 | 0.5931114 | 0.3275856 | 0.07930294 |\n",
       "| 380 | 0.5931114 | 0.3275856 | 0.07930294 |\n",
       "| 381 | 0.5931114 | 0.3275856 | 0.07930294 |\n",
       "| 382 | 0.5931114 | 0.3275856 | 0.07930294 |\n",
       "| 383 | 0.5931114 | 0.3275856 | 0.07930294 |\n",
       "| 384 | 0.3206801 | 0.4692269 | 0.21009300 |\n",
       "| 385 | 0.5931114 | 0.3275856 | 0.07930294 |\n",
       "| 386 | 0.5931114 | 0.3275856 | 0.07930294 |\n",
       "| 387 | 0.5931114 | 0.3275856 | 0.07930294 |\n",
       "| 388 | 0.5931114 | 0.3275856 | 0.07930294 |\n",
       "| 389 | 0.5931114 | 0.3275856 | 0.07930294 |\n",
       "| 390 | 0.5931114 | 0.3275856 | 0.07930294 |\n",
       "| 391 | 0.5931114 | 0.3275856 | 0.07930294 |\n",
       "| 392 | 0.5931114 | 0.3275856 | 0.07930294 |\n",
       "| 393 | 0.5931114 | 0.3275856 | 0.07930294 |\n",
       "| 394 | 0.3206801 | 0.4692269 | 0.21009300 |\n",
       "| 395 | 0.3206801 | 0.4692269 | 0.21009300 |\n",
       "| 396 | 0.5931114 | 0.3275856 | 0.07930294 |\n",
       "| 397 | 0.5931114 | 0.3275856 | 0.07930294 |\n",
       "| 398 | 0.5931114 | 0.3275856 | 0.07930294 |\n",
       "| 399 | 0.5931114 | 0.3275856 | 0.07930294 |\n",
       "| 400 | 0.5931114 | 0.3275856 | 0.07930294 |\n",
       "\n"
      ],
      "text/plain": [
       "    unlikely  somewhat likely very likely\n",
       "1   0.5931114 0.3275856       0.07930294 \n",
       "2   0.3206801 0.4692269       0.21009300 \n",
       "3   0.3206801 0.4692269       0.21009300 \n",
       "4   0.5931114 0.3275856       0.07930294 \n",
       "5   0.5931114 0.3275856       0.07930294 \n",
       "6   0.5931114 0.3275856       0.07930294 \n",
       "7   0.5931114 0.3275856       0.07930294 \n",
       "8   0.5931114 0.3275856       0.07930294 \n",
       "9   0.5931114 0.3275856       0.07930294 \n",
       "10  0.3206801 0.4692269       0.21009300 \n",
       "11  0.3206801 0.4692269       0.21009300 \n",
       "12  0.5931114 0.3275856       0.07930294 \n",
       "13  0.5931114 0.3275856       0.07930294 \n",
       "14  0.5931114 0.3275856       0.07930294 \n",
       "15  0.3206801 0.4692269       0.21009300 \n",
       "16  0.5931114 0.3275856       0.07930294 \n",
       "17  0.5931114 0.3275856       0.07930294 \n",
       "18  0.5931114 0.3275856       0.07930294 \n",
       "19  0.5931114 0.3275856       0.07930294 \n",
       "20  0.5931114 0.3275856       0.07930294 \n",
       "21  0.5931114 0.3275856       0.07930294 \n",
       "22  0.3206801 0.4692269       0.21009300 \n",
       "23  0.5931114 0.3275856       0.07930294 \n",
       "24  0.5931114 0.3275856       0.07930294 \n",
       "25  0.5931114 0.3275856       0.07930294 \n",
       "26  0.5931114 0.3275856       0.07930294 \n",
       "27  0.3206801 0.4692269       0.21009300 \n",
       "28  0.5931114 0.3275856       0.07930294 \n",
       "29  0.5931114 0.3275856       0.07930294 \n",
       "30  0.5931114 0.3275856       0.07930294 \n",
       "... ...       ...             ...        \n",
       "371 0.5931114 0.3275856       0.07930294 \n",
       "372 0.5931114 0.3275856       0.07930294 \n",
       "373 0.5931114 0.3275856       0.07930294 \n",
       "374 0.3206801 0.4692269       0.21009300 \n",
       "375 0.5931114 0.3275856       0.07930294 \n",
       "376 0.5931114 0.3275856       0.07930294 \n",
       "377 0.5931114 0.3275856       0.07930294 \n",
       "378 0.5931114 0.3275856       0.07930294 \n",
       "379 0.5931114 0.3275856       0.07930294 \n",
       "380 0.5931114 0.3275856       0.07930294 \n",
       "381 0.5931114 0.3275856       0.07930294 \n",
       "382 0.5931114 0.3275856       0.07930294 \n",
       "383 0.5931114 0.3275856       0.07930294 \n",
       "384 0.3206801 0.4692269       0.21009300 \n",
       "385 0.5931114 0.3275856       0.07930294 \n",
       "386 0.5931114 0.3275856       0.07930294 \n",
       "387 0.5931114 0.3275856       0.07930294 \n",
       "388 0.5931114 0.3275856       0.07930294 \n",
       "389 0.5931114 0.3275856       0.07930294 \n",
       "390 0.5931114 0.3275856       0.07930294 \n",
       "391 0.5931114 0.3275856       0.07930294 \n",
       "392 0.5931114 0.3275856       0.07930294 \n",
       "393 0.5931114 0.3275856       0.07930294 \n",
       "394 0.3206801 0.4692269       0.21009300 \n",
       "395 0.3206801 0.4692269       0.21009300 \n",
       "396 0.5931114 0.3275856       0.07930294 \n",
       "397 0.5931114 0.3275856       0.07930294 \n",
       "398 0.5931114 0.3275856       0.07930294 \n",
       "399 0.5931114 0.3275856       0.07930294 \n",
       "400 0.5931114 0.3275856       0.07930294 "
      ]
     },
     "metadata": {},
     "output_type": "display_data"
    }
   ],
   "source": [
    "#Predicciones del modelo\n",
    "summary(ord1)$fitted.values"
   ]
  },
  {
   "cell_type": "code",
   "execution_count": 9,
   "id": "633a8c9b",
   "metadata": {},
   "outputs": [],
   "source": [
    "newdata=data.frame(pared=c(0,1))\n",
    "new_pred=predict(ord1,newdata,type='p')"
   ]
  },
  {
   "cell_type": "code",
   "execution_count": 10,
   "id": "c9672625",
   "metadata": {},
   "outputs": [
    {
     "data": {
      "text/html": [
       "<table class=\"dataframe\">\n",
       "<caption>A data.frame: 2 × 1</caption>\n",
       "<thead>\n",
       "\t<tr><th scope=col>pared</th></tr>\n",
       "\t<tr><th scope=col>&lt;dbl&gt;</th></tr>\n",
       "</thead>\n",
       "<tbody>\n",
       "\t<tr><td>0</td></tr>\n",
       "\t<tr><td>1</td></tr>\n",
       "</tbody>\n",
       "</table>\n"
      ],
      "text/latex": [
       "A data.frame: 2 × 1\n",
       "\\begin{tabular}{l}\n",
       " pared\\\\\n",
       " <dbl>\\\\\n",
       "\\hline\n",
       "\t 0\\\\\n",
       "\t 1\\\\\n",
       "\\end{tabular}\n"
      ],
      "text/markdown": [
       "\n",
       "A data.frame: 2 × 1\n",
       "\n",
       "| pared &lt;dbl&gt; |\n",
       "|---|\n",
       "| 0 |\n",
       "| 1 |\n",
       "\n"
      ],
      "text/plain": [
       "  pared\n",
       "1 0    \n",
       "2 1    "
      ]
     },
     "metadata": {},
     "output_type": "display_data"
    }
   ],
   "source": [
    "newdata"
   ]
  },
  {
   "cell_type": "code",
   "execution_count": 21,
   "id": "04f0d41f",
   "metadata": {},
   "outputs": [
    {
     "data": {
      "text/html": [
       "<table class=\"dataframe\">\n",
       "<caption>A matrix: 2 × 3 of type dbl</caption>\n",
       "<thead>\n",
       "\t<tr><th></th><th scope=col>unlikely</th><th scope=col>somewhat likely</th><th scope=col>very likely</th></tr>\n",
       "</thead>\n",
       "<tbody>\n",
       "\t<tr><th scope=row>1</th><td>0.5931114</td><td>0.3275856</td><td>0.07930294</td></tr>\n",
       "\t<tr><th scope=row>2</th><td>0.3206801</td><td>0.4692269</td><td>0.21009300</td></tr>\n",
       "</tbody>\n",
       "</table>\n"
      ],
      "text/latex": [
       "A matrix: 2 × 3 of type dbl\n",
       "\\begin{tabular}{r|lll}\n",
       "  & unlikely & somewhat likely & very likely\\\\\n",
       "\\hline\n",
       "\t1 & 0.5931114 & 0.3275856 & 0.07930294\\\\\n",
       "\t2 & 0.3206801 & 0.4692269 & 0.21009300\\\\\n",
       "\\end{tabular}\n"
      ],
      "text/markdown": [
       "\n",
       "A matrix: 2 × 3 of type dbl\n",
       "\n",
       "| <!--/--> | unlikely | somewhat likely | very likely |\n",
       "|---|---|---|---|\n",
       "| 1 | 0.5931114 | 0.3275856 | 0.07930294 |\n",
       "| 2 | 0.3206801 | 0.4692269 | 0.21009300 |\n",
       "\n"
      ],
      "text/plain": [
       "  unlikely  somewhat likely very likely\n",
       "1 0.5931114 0.3275856       0.07930294 \n",
       "2 0.3206801 0.4692269       0.21009300 "
      ]
     },
     "metadata": {},
     "output_type": "display_data"
    }
   ],
   "source": [
    "new_pred"
   ]
  },
  {
   "cell_type": "markdown",
   "id": "bfe01688",
   "metadata": {},
   "source": [
    "**Tarea: Hacer las métricas necesarias para este modelo**"
   ]
  },
  {
   "cell_type": "code",
   "execution_count": null,
   "id": "97686c34",
   "metadata": {},
   "outputs": [],
   "source": []
  }
 ],
 "metadata": {
  "kernelspec": {
   "display_name": "R",
   "language": "R",
   "name": "ir"
  },
  "language_info": {
   "codemirror_mode": "r",
   "file_extension": ".r",
   "mimetype": "text/x-r-source",
   "name": "R",
   "pygments_lexer": "r",
   "version": "4.0.4"
  }
 },
 "nbformat": 4,
 "nbformat_minor": 5
}
